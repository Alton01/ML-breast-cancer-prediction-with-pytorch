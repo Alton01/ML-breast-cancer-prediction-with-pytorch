{
  "nbformat": 4,
  "nbformat_minor": 0,
  "metadata": {
    "colab": {
      "provenance": [],
      "authorship_tag": "ABX9TyP9NBrMoVK+5iLrDi09n3AI",
      "include_colab_link": true
    },
    "kernelspec": {
      "name": "python3",
      "display_name": "Python 3"
    },
    "language_info": {
      "name": "python"
    }
  },
  "cells": [
    {
      "cell_type": "markdown",
      "metadata": {
        "id": "view-in-github",
        "colab_type": "text"
      },
      "source": [
        "<a href=\"https://colab.research.google.com/github/Alton01/ML-breast-cancer-prediction-with-pytorch/blob/main/breast_cancer_prediction_pytorch.ipynb\" target=\"_parent\"><img src=\"https://colab.research.google.com/assets/colab-badge.svg\" alt=\"Open In Colab\"/></a>"
      ]
    },
    {
      "cell_type": "code",
      "execution_count": 1,
      "metadata": {
        "id": "7IzzMse0TlVZ"
      },
      "outputs": [],
      "source": [
        "import torch\n",
        "import torch.nn as nn\n",
        "import torch.optim as optim\n",
        "from sklearn.datasets import load_breast_cancer\n",
        "from sklearn.model_selection import train_test_split\n",
        "from sklearn.preprocessing import StandardScaler"
      ]
    },
    {
      "cell_type": "code",
      "source": [
        "device = torch.device(\"cuda\" if torch.cuda.is_available() else \"cpu\")\n",
        "print(f\"Using device: {device}\")"
      ],
      "metadata": {
        "colab": {
          "base_uri": "https://localhost:8080/"
        },
        "id": "zNupKpyUcSx7",
        "outputId": "abdfb61d-d8d1-439e-9d0b-f214342a2963"
      },
      "execution_count": 2,
      "outputs": [
        {
          "output_type": "stream",
          "name": "stdout",
          "text": [
            "Using device: cpu\n"
          ]
        }
      ]
    },
    {
      "cell_type": "code",
      "source": [
        "#load breast cancer dataset\n",
        "data = load_breast_cancer()\n",
        "x, y = data.data, data.target"
      ],
      "metadata": {
        "id": "27wyf6W1dRz5"
      },
      "execution_count": 3,
      "outputs": []
    },
    {
      "cell_type": "code",
      "source": [
        "#dataset splitting into training and test set\n",
        "x_train, x_test, y_train, y_test = train_test_split(x, y, test_size=0.2, random_state=42)"
      ],
      "metadata": {
        "id": "LTSFnVQaeZDN"
      },
      "execution_count": 4,
      "outputs": []
    },
    {
      "cell_type": "code",
      "source": [
        "print(x.shape)\n",
        "print(x_train.shape)\n",
        "print(x_test.shape)"
      ],
      "metadata": {
        "colab": {
          "base_uri": "https://localhost:8080/"
        },
        "id": "449rhMv5e69q",
        "outputId": "43c5d983-fa53-4e6a-e6cd-e5626f4a48db"
      },
      "execution_count": 5,
      "outputs": [
        {
          "output_type": "stream",
          "name": "stdout",
          "text": [
            "(569, 30)\n",
            "(455, 30)\n",
            "(114, 30)\n"
          ]
        }
      ]
    },
    {
      "cell_type": "code",
      "source": [
        "# standardize the data using standard scaler. This ensures the data is normally distributed. mean is going to be (0) zero and S.D is 1\n",
        "#logistic regression expects the data to be normally distributed.\n",
        "scaler = StandardScaler()\n",
        "x_train = scaler.fit_transform(x_train)\n",
        "x_test = scaler.transform(x_test)"
      ],
      "metadata": {
        "id": "6CjaH5E-f_ud"
      },
      "execution_count": 6,
      "outputs": []
    },
    {
      "cell_type": "code",
      "source": [
        "type(x_train)"
      ],
      "metadata": {
        "colab": {
          "base_uri": "https://localhost:8080/"
        },
        "id": "PcNIKvoZDOKK",
        "outputId": "d3e7aa68-7bcf-4524-f385-d9edffca9fd3"
      },
      "execution_count": 7,
      "outputs": [
        {
          "output_type": "execute_result",
          "data": {
            "text/plain": [
              "numpy.ndarray"
            ]
          },
          "metadata": {},
          "execution_count": 7
        }
      ]
    },
    {
      "cell_type": "code",
      "source": [
        "# convert data from numpy.ndarray to pytorch tensors as we cannot use numpy.ndarray in pytorch.\n",
        "x_train = torch.tensor(x_train, dtype=torch.float32).to(device)\n",
        "x_test = torch.tensor(x_test, dtype=torch.float32).to(device)\n",
        "y_train = torch.tensor(y_train, dtype=torch.float32).to(device)\n",
        "y_test = torch.tensor(y_test, dtype=torch.float32).to(device)"
      ],
      "metadata": {
        "id": "ilTOtHEtDxWt"
      },
      "execution_count": 8,
      "outputs": []
    },
    {
      "cell_type": "code",
      "source": [
        "# Neural Network Architecture\n",
        "# input_size represents how many number of neurons should be present in input layer\n",
        "# input layer contains the same number of neurons as the features\n",
        "# hidden_size represents how many number of neurons should be present in hidden layer\n",
        "# output_size represents how many number of neurons should be present in output layer\n",
        "# outpt_size depends on how many classes the classification is into. in this binary classification, it is 2 neureons.\n",
        "# ReLU (Rectified Linear Unit) activation function. This non-linear function is typically applied after the first fully connected layer\n",
        "# to introduce non-linearity into the model, allowing it to learn more complex patterns.\n",
        "#  Sigmoid activation function is often used in the output layer of binary classification models to squash the output values between 0 and 1.\n",
        "\n",
        "class NeuralNet(nn.Module):\n",
        "    def __init__(self, input_size, hidden_size, output_size):\n",
        "        super(NeuralNet, self).__init__()\n",
        "        self.fc1 = nn.Linear(input_size, hidden_size) #1st fully connected layer\n",
        "        self.relu = nn.ReLU() #(Rectified Linear Unit) activation function\n",
        "        self.fc2 = nn.Linear(hidden_size, output_size) #2nd fully connected layer\n",
        "        self.sigmoid = nn.Sigmoid()\n",
        "\n",
        "    def forward(self, x):\n",
        "        out = self.fc1(x)\n",
        "        out = self.relu(out)\n",
        "        out = self.fc2(out)\n",
        "        out = self.sigmoid(out)\n",
        "        return out"
      ],
      "metadata": {
        "id": "Xmbhz15oG5KO"
      },
      "execution_count": 9,
      "outputs": []
    },
    {
      "cell_type": "code",
      "source": [
        "# Define hyperparameters\n",
        "input_size = x_train.shape[1] # Number of features in the input data which is 30\n",
        "hidden_size = 64\n",
        "output_size = 1  ## a single neuron that would give the value as either 0 or 1. output of logistic regression\n",
        "learning_rate = 0.001\n",
        "num_epochs = 100"
      ],
      "metadata": {
        "id": "MBer1CRqRexE"
      },
      "execution_count": 10,
      "outputs": []
    }
  ]
}