{
  "nbformat": 4,
  "nbformat_minor": 0,
  "metadata": {
    "colab": {
      "provenance": [],
      "authorship_tag": "ABX9TyO+XVGMnKg2+7t2pQ33wKe+",
      "include_colab_link": true
    },
    "kernelspec": {
      "name": "python3",
      "display_name": "Python 3"
    },
    "language_info": {
      "name": "python"
    }
  },
  "cells": [
    {
      "cell_type": "markdown",
      "metadata": {
        "id": "view-in-github",
        "colab_type": "text"
      },
      "source": [
        "<a href=\"https://colab.research.google.com/github/Alton01/ML-breast-cancer-prediction-with-pytorch/blob/main/breast_cancer_prediction_pytorch.ipynb\" target=\"_parent\"><img src=\"https://colab.research.google.com/assets/colab-badge.svg\" alt=\"Open In Colab\"/></a>"
      ]
    },
    {
      "cell_type": "code",
      "execution_count": 1,
      "metadata": {
        "id": "7IzzMse0TlVZ"
      },
      "outputs": [],
      "source": [
        "import torch\n",
        "import torch.nn as nn\n",
        "import torch.optim as optim\n",
        "from sklearn.datasets import load_breast_cancer\n",
        "from sklearn.model_selection import train_test_split\n",
        "from sklearn.preprocessing import StandardScaler"
      ]
    },
    {
      "cell_type": "code",
      "source": [
        "device = torch.device(\"cuda\" if torch.cuda.is_available() else \"cpu\")\n",
        "print(f\"Using device: {device}\")"
      ],
      "metadata": {
        "colab": {
          "base_uri": "https://localhost:8080/"
        },
        "id": "zNupKpyUcSx7",
        "outputId": "cda68031-4b57-4223-c685-ebe0b55259db"
      },
      "execution_count": 2,
      "outputs": [
        {
          "output_type": "stream",
          "name": "stdout",
          "text": [
            "Using device: cpu\n"
          ]
        }
      ]
    },
    {
      "cell_type": "code",
      "source": [
        "#load breast cancer dataset\n",
        "data = load_breast_cancer()\n",
        "x, y = data.data, data.target"
      ],
      "metadata": {
        "id": "27wyf6W1dRz5"
      },
      "execution_count": 3,
      "outputs": []
    },
    {
      "cell_type": "code",
      "source": [
        "#dataset splitting into training and test set\n",
        "x_train, x_test, y_train, y_test = train_test_split(x, y, test_size=0.2, random_state=42)"
      ],
      "metadata": {
        "id": "LTSFnVQaeZDN"
      },
      "execution_count": 4,
      "outputs": []
    },
    {
      "cell_type": "code",
      "source": [
        "print(x.shape)\n",
        "print(x_train.shape)\n",
        "print(x_test.shape)\n",
        "print(y.shape)\n",
        "print(y_train.shape)\n",
        "print(y_test.shape)"
      ],
      "metadata": {
        "colab": {
          "base_uri": "https://localhost:8080/"
        },
        "id": "449rhMv5e69q",
        "outputId": "5ffe8a72-3707-4f52-bc63-659b7d8d9a75"
      },
      "execution_count": 5,
      "outputs": [
        {
          "output_type": "stream",
          "name": "stdout",
          "text": [
            "(569, 30)\n",
            "(455, 30)\n",
            "(114, 30)\n",
            "(569,)\n",
            "(455,)\n",
            "(114,)\n"
          ]
        }
      ]
    },
    {
      "cell_type": "code",
      "source": [
        "# standardize the data using standard scaler. This ensures the data is normally distributed. mean is going to be (0) zero and S.D is 1\n",
        "#logistic regression expects the data to be normally distributed.\n",
        "# Standardizing the data is important for many machine learning algorithms, including neural networks,\n",
        "# as it can help improve performance and speed up training. It ensures that all features have a similar scale,\n",
        "# preventing features with larger values from dominating the learning process.\n",
        "scaler = StandardScaler()\n",
        "x_train = scaler.fit_transform(x_train)\n",
        "x_test = scaler.transform(x_test) # we dont fit on test data in order to prevent data leakage."
      ],
      "metadata": {
        "id": "6CjaH5E-f_ud"
      },
      "execution_count": 7,
      "outputs": []
    },
    {
      "cell_type": "code",
      "source": [
        "type(x_train)"
      ],
      "metadata": {
        "colab": {
          "base_uri": "https://localhost:8080/"
        },
        "id": "PcNIKvoZDOKK",
        "outputId": "12416119-edc7-4eac-dc55-1d2321e1d08f"
      },
      "execution_count": 8,
      "outputs": [
        {
          "output_type": "execute_result",
          "data": {
            "text/plain": [
              "numpy.ndarray"
            ]
          },
          "metadata": {},
          "execution_count": 8
        }
      ]
    },
    {
      "cell_type": "code",
      "source": [
        "# convert data from numpy.ndarray to pytorch tensors as we cannot use numpy.ndarray in pytorch.\n",
        "x_train = torch.tensor(x_train, dtype=torch.float32).to(device)\n",
        "x_test = torch.tensor(x_test, dtype=torch.float32).to(device)\n",
        "y_train = torch.tensor(y_train, dtype=torch.float32).to(device)\n",
        "y_test = torch.tensor(y_test, dtype=torch.float32).to(device)"
      ],
      "metadata": {
        "id": "ilTOtHEtDxWt"
      },
      "execution_count": 9,
      "outputs": []
    },
    {
      "cell_type": "code",
      "source": [
        "# Neural Network Architecture\n",
        "# input_size represents how many number of neurons should be present in input layer\n",
        "# input layer contains the same number of neurons as the features\n",
        "# hidden_size represents how many number of neurons should be present in hidden layer\n",
        "# output_size represents how many number of neurons should be present in output layer\n",
        "# outpt_size depends on how many classes the classification is into. in this binary classification, it is 2 neureons.\n",
        "# ReLU (Rectified Linear Unit) activation function. This non-linear function is typically applied after the first fully connected layer\n",
        "# to introduce non-linearity into the model, allowing it to learn more complex patterns.\n",
        "#  Sigmoid activation function is often used in the output layer of binary classification models to squash the output values between 0 and 1.\n",
        "\n",
        "class NeuralNet(nn.Module):\n",
        "    def __init__(self, input_size, hidden_size, output_size):\n",
        "        super(NeuralNet, self).__init__()\n",
        "        self.fc1 = nn.Linear(input_size, hidden_size) #1st fully connected layer\n",
        "        self.relu = nn.ReLU() #(Rectified Linear Unit) activation function\n",
        "        self.fc2 = nn.Linear(hidden_size, output_size) #2nd fully connected layer\n",
        "        self.sigmoid = nn.Sigmoid()\n",
        "\n",
        "    def forward(self, x): #forward  propagation\n",
        "        out = self.fc1(x)\n",
        "        out = self.relu(out)\n",
        "        out = self.fc2(out)\n",
        "        out = self.sigmoid(out)\n",
        "        return out"
      ],
      "metadata": {
        "id": "Xmbhz15oG5KO"
      },
      "execution_count": 10,
      "outputs": []
    },
    {
      "cell_type": "code",
      "source": [
        "# Define hyperparameters\n",
        "# The learning rate determines how much the model's weights are updated during each training step.\n",
        "# A smaller learning rate can lead to more stable training but may take longer,\n",
        "# while a larger learning rate can speed up training but may cause the model to overshoot the optimal solution\n",
        "input_size = x_train.shape[1] # Number of features in the input data which is 30\n",
        "hidden_size = 64\n",
        "output_size = 1  ## a single neuron that would give the value as either 0 or 1. output of logistic regression\n",
        "learning_rate = 0.001\n",
        "num_epochs = 100"
      ],
      "metadata": {
        "id": "MBer1CRqRexE"
      },
      "execution_count": 12,
      "outputs": []
    },
    {
      "cell_type": "code",
      "source": [
        "# initialize the neural network and move it to the GPU\n",
        "\n",
        "model = NeuralNet(input_size, hidden_size, output_size).to(device)\n"
      ],
      "metadata": {
        "id": "DZQBcsJ_S_AN"
      },
      "execution_count": 13,
      "outputs": []
    },
    {
      "cell_type": "code",
      "source": [
        "# Define loss and optimizer.  loss function is commonly used for binary classification problems.\n",
        "# It measures how well the predicted probabilities from the model match the actual binary labels (0 or 1).\n",
        "# The optimizer is responsible for updating the model's weights during training based on the calculated loss.\n",
        "criterion = nn.BCELoss() # Binary Cross-Entropy Loss\n",
        "optimizer = optim.Adam(model.parameters(), lr=learning_rate)"
      ],
      "metadata": {
        "id": "rB4kd3rfgcGo"
      },
      "execution_count": 15,
      "outputs": []
    },
    {
      "cell_type": "code",
      "source": [
        "#Training the neural network model\n",
        "# zero_grad resets the gradient to zero at start of each iteration as gradients are accumulated during backpropagation\n",
        "# in order to avoid summing gradients from previous iterations.\n",
        "for epoch in range(num_epochs):\n",
        "   model.train()\n",
        "   optimizer.zero_grad()\n",
        "   outputs = model(x_train)\n",
        "   loss = criterion(outputs, y_train.view(-1,1)) # It compares the model's predictions (outputs) with the actual training labels (y_train).\n",
        "   # y_train.view(-1,1) reshapes y_train to have the same shape as outputs for the loss calculation.\n",
        "   loss.backward() # This performs backpropagation. It calculates the gradients of the loss with respect to all the model's parameters.\n",
        "   optimizer.step() #This updates model's parameters using calculated gradients and defined optimizer (Adam). This is where the learning happens.\n",
        "\n",
        "   #calculate accuracy\n",
        "   with torch.no_grad():\n",
        "    predicted = outputs.round() # This rounds the predicted probabilities to the nearest integer (0 or 1) to get the predicted class labels.\n",
        "    correct = (predicted == y_train.view(-1, 1)).float().sum() #counting how many predictions (are true) are the same as the y_train and summing it.\n",
        "    accuracy = correct / y_train.size(0)\n",
        "\n",
        "   if (epoch+1) % 10 == 0: # This checks if the current epoch number is a multiple of 10.\n",
        "    print(f'Epoch [{epoch+1}/{num_epochs}], Loss: {loss.item():.4f}, Accuracy: {accuracy.item() * 100:.2f}%')\n"
      ],
      "metadata": {
        "colab": {
          "base_uri": "https://localhost:8080/"
        },
        "id": "kwZ4QnyuhVbt",
        "outputId": "1d7f3a5e-58f2-4980-9c1d-cd105c375a71"
      },
      "execution_count": 17,
      "outputs": [
        {
          "output_type": "stream",
          "name": "stdout",
          "text": [
            "Epoch [10/100], Loss: 0.1044, Accuracy: 97.36%\n",
            "Epoch [20/100], Loss: 0.0971, Accuracy: 97.80%\n",
            "Epoch [30/100], Loss: 0.0909, Accuracy: 98.02%\n",
            "Epoch [40/100], Loss: 0.0856, Accuracy: 98.02%\n",
            "Epoch [50/100], Loss: 0.0809, Accuracy: 98.24%\n",
            "Epoch [60/100], Loss: 0.0767, Accuracy: 98.24%\n",
            "Epoch [70/100], Loss: 0.0731, Accuracy: 98.24%\n",
            "Epoch [80/100], Loss: 0.0699, Accuracy: 98.24%\n",
            "Epoch [90/100], Loss: 0.0671, Accuracy: 98.24%\n",
            "Epoch [100/100], Loss: 0.0645, Accuracy: 98.46%\n"
          ]
        }
      ]
    },
    {
      "cell_type": "code",
      "source": [
        "#model evaluation on training data\n",
        "# model.eval sets the model to evaluation mode.\n",
        "# important because some layers (like dropout or batch normalization) behave differently during training and evaluation.\n",
        "#  In evaluation mode, these layers are typically turned off or use pre-calculated statistics.\n",
        "model.eval()\n",
        "with torch.no_grad(): # This disables gradient calculation because you don't need to compute gradients to update model's weights;\n",
        "# we are only interested in getting the model's performance metrics. Disabling gradient calculation saves memory and computation time.\n",
        "  outputs = model(x_train)\n",
        "  predicted = outputs.round()\n",
        "  correct = (predicted == y_train.view(-1, 1)).float().sum() # compares predicted labels with training labels & sums up total correct predictions.\n",
        "  accuracy = correct / y_train.size(0)\n",
        "  print(f'Training Accuracy: {accuracy.item() * 100:.2f}%')"
      ],
      "metadata": {
        "colab": {
          "base_uri": "https://localhost:8080/"
        },
        "id": "4AUEnYGApvUd",
        "outputId": "31782182-c263-4412-8729-84be42be4581"
      },
      "execution_count": 19,
      "outputs": [
        {
          "output_type": "stream",
          "name": "stdout",
          "text": [
            "Training Accuracy: 98.46%\n"
          ]
        }
      ]
    },
    {
      "cell_type": "code",
      "source": [
        "#model evaluation on test data\n",
        "model.eval()\n",
        "with torch.no_grad():\n",
        "  outputs = model(x_test)\n",
        "  predicted = outputs.round()\n",
        "  correct = (predicted == y_test.view(-1, 1)).float().sum()\n",
        "  accuracy = correct / y_test.size(0)\n",
        "  print(f'Test Accuracy: {accuracy.item() * 100:.2f}%')"
      ],
      "metadata": {
        "colab": {
          "base_uri": "https://localhost:8080/"
        },
        "id": "Tp5kUSQQtbgX",
        "outputId": "bad36a5a-e26b-4dc1-f58d-600672f0c7b1"
      },
      "execution_count": 20,
      "outputs": [
        {
          "output_type": "stream",
          "name": "stdout",
          "text": [
            "Test Accuracy: 99.12%\n"
          ]
        }
      ]
    }
  ]
}