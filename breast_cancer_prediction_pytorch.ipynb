{
  "nbformat": 4,
  "nbformat_minor": 0,
  "metadata": {
    "colab": {
      "provenance": [],
      "gpuType": "T4",
      "authorship_tag": "ABX9TyPU/orl9u1blilL5oGNd8j+",
      "include_colab_link": true
    },
    "kernelspec": {
      "name": "python3",
      "display_name": "Python 3"
    },
    "language_info": {
      "name": "python"
    },
    "accelerator": "GPU"
  },
  "cells": [
    {
      "cell_type": "markdown",
      "metadata": {
        "id": "view-in-github",
        "colab_type": "text"
      },
      "source": [
        "<a href=\"https://colab.research.google.com/github/Alton01/ML-breast-cancer-prediction-with-pytorch/blob/main/breast_cancer_prediction_pytorch.ipynb\" target=\"_parent\"><img src=\"https://colab.research.google.com/assets/colab-badge.svg\" alt=\"Open In Colab\"/></a>"
      ]
    },
    {
      "cell_type": "code",
      "execution_count": 1,
      "metadata": {
        "id": "7IzzMse0TlVZ"
      },
      "outputs": [],
      "source": [
        "import torch\n",
        "import torch.nn as nn\n",
        "import torch.optim as optim\n",
        "from sklearn.datasets import load_breast_cancer\n",
        "from sklearn.model_selection import train_test_split\n",
        "from sklearn.preprocessing import StandardScaler"
      ]
    },
    {
      "cell_type": "code",
      "source": [
        "device = torch.device(\"cuda\" if torch.cuda.is_available() else \"cpu\")\n",
        "print(f\"Using device: {device}\")"
      ],
      "metadata": {
        "colab": {
          "base_uri": "https://localhost:8080/"
        },
        "id": "zNupKpyUcSx7",
        "outputId": "b015bf29-05c3-4c7f-cfa8-cf4b32b037cd"
      },
      "execution_count": 2,
      "outputs": [
        {
          "output_type": "stream",
          "name": "stdout",
          "text": [
            "Using device: cuda\n"
          ]
        }
      ]
    },
    {
      "cell_type": "code",
      "source": [
        "#load breast cancer dataset\n",
        "data = load_breast_cancer()\n",
        "x, y = data.data, data.target"
      ],
      "metadata": {
        "id": "27wyf6W1dRz5"
      },
      "execution_count": 3,
      "outputs": []
    },
    {
      "cell_type": "code",
      "source": [
        "#dataset splitting into training and test set\n",
        "x_train, x_test, y_train, y_test = train_test_split(x, y, test_size=0.2, random_state=42)"
      ],
      "metadata": {
        "id": "LTSFnVQaeZDN"
      },
      "execution_count": 4,
      "outputs": []
    },
    {
      "cell_type": "code",
      "source": [
        "print(x.shape)\n",
        "print(x_train.shape)\n",
        "print(x_test.shape)\n",
        "print(y.shape)\n",
        "print(y_train.shape)\n",
        "print(y_test.shape)"
      ],
      "metadata": {
        "colab": {
          "base_uri": "https://localhost:8080/"
        },
        "id": "449rhMv5e69q",
        "outputId": "7d817143-c699-41f4-8504-1886bc63ee48"
      },
      "execution_count": 16,
      "outputs": [
        {
          "output_type": "stream",
          "name": "stdout",
          "text": [
            "(569, 30)\n",
            "torch.Size([455, 30])\n",
            "torch.Size([114, 30])\n",
            "(569,)\n",
            "torch.Size([455])\n",
            "torch.Size([114])\n"
          ]
        }
      ]
    },
    {
      "cell_type": "code",
      "source": [
        "# standardize the data using standard scaler. This ensures the data is normally distributed. mean is going to be (0) zero and S.D is 1\n",
        "#logistic regression expects the data to be normally distributed.\n",
        "scaler = StandardScaler()\n",
        "x_train = scaler.fit_transform(x_train)\n",
        "x_test = scaler.transform(x_test)"
      ],
      "metadata": {
        "id": "6CjaH5E-f_ud"
      },
      "execution_count": 6,
      "outputs": []
    },
    {
      "cell_type": "code",
      "source": [
        "type(x_train)"
      ],
      "metadata": {
        "colab": {
          "base_uri": "https://localhost:8080/"
        },
        "id": "PcNIKvoZDOKK",
        "outputId": "e2123494-1cca-4104-e3b8-9b24269f8edd"
      },
      "execution_count": 7,
      "outputs": [
        {
          "output_type": "execute_result",
          "data": {
            "text/plain": [
              "numpy.ndarray"
            ]
          },
          "metadata": {},
          "execution_count": 7
        }
      ]
    },
    {
      "cell_type": "code",
      "source": [
        "# convert data from numpy.ndarray to pytorch tensors as we cannot use numpy.ndarray in pytorch.\n",
        "x_train = torch.tensor(x_train, dtype=torch.float32).to(device)\n",
        "x_test = torch.tensor(x_test, dtype=torch.float32).to(device)\n",
        "y_train = torch.tensor(y_train, dtype=torch.float32).to(device)\n",
        "y_test = torch.tensor(y_test, dtype=torch.float32).to(device)"
      ],
      "metadata": {
        "id": "ilTOtHEtDxWt"
      },
      "execution_count": 8,
      "outputs": []
    },
    {
      "cell_type": "code",
      "source": [
        "# Neural Network Architecture\n",
        "# input_size represents how many number of neurons should be present in input layer\n",
        "# input layer contains the same number of neurons as the features\n",
        "# hidden_size represents how many number of neurons should be present in hidden layer\n",
        "# output_size represents how many number of neurons should be present in output layer\n",
        "# outpt_size depends on how many classes the classification is into. in this binary classification, it is 2 neureons.\n",
        "# ReLU (Rectified Linear Unit) activation function. This non-linear function is typically applied after the first fully connected layer\n",
        "# to introduce non-linearity into the model, allowing it to learn more complex patterns.\n",
        "#  Sigmoid activation function is often used in the output layer of binary classification models to squash the output values between 0 and 1.\n",
        "\n",
        "class NeuralNet(nn.Module):\n",
        "    def __init__(self, input_size, hidden_size, output_size):\n",
        "        super(NeuralNet, self).__init__()\n",
        "        self.fc1 = nn.Linear(input_size, hidden_size) #1st fully connected layer\n",
        "        self.relu = nn.ReLU() #(Rectified Linear Unit) activation function\n",
        "        self.fc2 = nn.Linear(hidden_size, output_size) #2nd fully connected layer\n",
        "        self.sigmoid = nn.Sigmoid()\n",
        "\n",
        "    def forward(self, x):\n",
        "        out = self.fc1(x)\n",
        "        out = self.relu(out)\n",
        "        out = self.fc2(out)\n",
        "        out = self.sigmoid(out)\n",
        "        return out"
      ],
      "metadata": {
        "id": "Xmbhz15oG5KO"
      },
      "execution_count": 9,
      "outputs": []
    },
    {
      "cell_type": "code",
      "source": [
        "# Define hyperparameters\n",
        "input_size = x_train.shape[1] # Number of features in the input data which is 30\n",
        "hidden_size = 64\n",
        "output_size = 1  ## a single neuron that would give the value as either 0 or 1. output of logistic regression\n",
        "learning_rate = 0.001\n",
        "num_epochs = 100"
      ],
      "metadata": {
        "id": "MBer1CRqRexE"
      },
      "execution_count": 10,
      "outputs": []
    },
    {
      "cell_type": "code",
      "source": [
        "# initialize the neural network and move it to the GPU\n",
        "\n",
        "model = NeuralNet(input_size, hidden_size, output_size).to(device)\n"
      ],
      "metadata": {
        "id": "DZQBcsJ_S_AN"
      },
      "execution_count": 11,
      "outputs": []
    },
    {
      "cell_type": "code",
      "source": [
        "# Define loss and optimizer\n",
        "criterion = nn.BCELoss()\n",
        "optimizer = optim.Adam(model.parameters(), lr=learning_rate)"
      ],
      "metadata": {
        "id": "rB4kd3rfgcGo"
      },
      "execution_count": 18,
      "outputs": []
    },
    {
      "cell_type": "code",
      "source": [
        "#Training the neural network model\n",
        "\n",
        "for epoch in range(num_epochs):\n",
        "   model.train()\n",
        "   optimizer.zero_grad() #zero_grad resets the gradient to zero\n",
        "   outputs = model(x_train)\n",
        "   loss = criterion(outputs, y_train.view(-1,1))\n",
        "   loss.backward()\n",
        "   optimizer.step()\n",
        "\n",
        "   #calculate accuracy\n",
        "   with torch.no_grad():\n",
        "    predicted = outputs.round()\n",
        "    correct = (predicted == y_train.view(-1, 1)).float().sum() #counting how many predictions (are true) are the same as the y_train and summing it.\n",
        "    accuracy = correct / y_train.size(0)\n",
        "\n",
        "   if (epoch+1) % 10 == 0:\n",
        "    print(f'Epoch [{epoch+1}/{num_epochs}], Loss: {loss.item():.4f}, Accuracy: {accuracy.item() * 100:.2f}%')\n"
      ],
      "metadata": {
        "colab": {
          "base_uri": "https://localhost:8080/"
        },
        "id": "kwZ4QnyuhVbt",
        "outputId": "f23d9f4c-0e7c-41e4-bc76-c5adacc912b5"
      },
      "execution_count": 20,
      "outputs": [
        {
          "output_type": "stream",
          "name": "stdout",
          "text": [
            "Epoch [10/100], Loss: 0.5994, Accuracy: 66.59%\n",
            "Epoch [20/100], Loss: 0.4710, Accuracy: 89.67%\n",
            "Epoch [30/100], Loss: 0.3702, Accuracy: 92.75%\n",
            "Epoch [40/100], Loss: 0.2939, Accuracy: 93.19%\n",
            "Epoch [50/100], Loss: 0.2386, Accuracy: 94.51%\n",
            "Epoch [60/100], Loss: 0.1992, Accuracy: 94.95%\n",
            "Epoch [70/100], Loss: 0.1710, Accuracy: 95.82%\n",
            "Epoch [80/100], Loss: 0.1502, Accuracy: 96.04%\n",
            "Epoch [90/100], Loss: 0.1345, Accuracy: 96.70%\n",
            "Epoch [100/100], Loss: 0.1223, Accuracy: 97.14%\n"
          ]
        }
      ]
    },
    {
      "cell_type": "code",
      "source": [
        "#model evaluation on training data\n",
        "model.eval()\n",
        "with torch.no_grad():\n",
        "  outputs = model(x_train)\n",
        "  predicted = outputs.round()\n",
        "  correct = (predicted == y_train.view(-1, 1)).float().sum()\n",
        "  accuracy = correct / y_train.size(0)\n",
        "  print(f'Training Accuracy: {accuracy.item() * 100:.2f}%')"
      ],
      "metadata": {
        "colab": {
          "base_uri": "https://localhost:8080/"
        },
        "id": "4AUEnYGApvUd",
        "outputId": "a1ada285-8ffd-4137-e0b7-f1b8eb50c04c"
      },
      "execution_count": 21,
      "outputs": [
        {
          "output_type": "stream",
          "name": "stdout",
          "text": [
            "Training Accuracy: 97.14%\n"
          ]
        }
      ]
    },
    {
      "cell_type": "code",
      "source": [
        "#model evaluation on test data\n",
        "model.eval()\n",
        "with torch.no_grad():\n",
        "  outputs = model(x_test)\n",
        "  predicted = outputs.round()\n",
        "  correct = (predicted == y_test.view(-1, 1)).float().sum()\n",
        "  accuracy = correct / y_test.size(0)\n",
        "  print(f'Test Accuracy: {accuracy.item() * 100:.2f}%')"
      ],
      "metadata": {
        "colab": {
          "base_uri": "https://localhost:8080/"
        },
        "id": "Tp5kUSQQtbgX",
        "outputId": "ae2671cb-89ce-4241-9370-2522365cdf95"
      },
      "execution_count": 22,
      "outputs": [
        {
          "output_type": "stream",
          "name": "stdout",
          "text": [
            "Test Accuracy: 98.25%\n"
          ]
        }
      ]
    }
  ]
}